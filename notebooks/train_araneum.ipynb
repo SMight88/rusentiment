{
 "cells": [
  {
   "cell_type": "code",
   "execution_count": 1,
   "metadata": {},
   "outputs": [],
   "source": [
    "import pandas as pd\n",
    "import numpy as np\n",
    "\n",
    "from pathlib import Path\n",
    "\n",
    "from tqdm import tqdm"
   ]
  },
  {
   "cell_type": "code",
   "execution_count": 2,
   "metadata": {},
   "outputs": [],
   "source": [
    "import re\n",
    "from nltk import tokenize, TweetTokenizer\n",
    "from pymystem3 import Mystem"
   ]
  },
  {
   "cell_type": "code",
   "execution_count": 3,
   "metadata": {},
   "outputs": [],
   "source": [
    "from gensim.models import KeyedVectors, FastText"
   ]
  },
  {
   "cell_type": "code",
   "execution_count": 4,
   "metadata": {},
   "outputs": [],
   "source": [
    "from sklearn.ensemble import GradientBoostingClassifier\n",
    "from sklearn.feature_extraction.text import TfidfVectorizer\n",
    "from sklearn.linear_model import LogisticRegression, RidgeClassifier\n",
    "from sklearn.preprocessing import LabelEncoder, MinMaxScaler, StandardScaler\n",
    "from sklearn.metrics import f1_score, precision_score, recall_score, accuracy_score\n",
    "from sklearn.utils.class_weight import compute_sample_weight\n",
    "from sklearn.utils import shuffle\n",
    "from sklearn.svm import SVC, LinearSVC\n",
    "from sklearn.metrics import f1_score, precision_score, recall_score, accuracy_score, confusion_matrix"
   ]
  },
  {
   "cell_type": "code",
   "execution_count": 5,
   "metadata": {},
   "outputs": [],
   "source": [
    "DATA_DIR = Path('../data/')\n",
    "DATASET_DIR = DATA_DIR.joinpath('dataset/')\n",
    "FASTTEXT_DIR = DATA_DIR.joinpath('fasttext/')"
   ]
  },
  {
   "cell_type": "code",
   "execution_count": 6,
   "metadata": {},
   "outputs": [],
   "source": [
    "df_random = pd.read_csv(DATASET_DIR.joinpath('rusentiment_random_posts.csv'))\n",
    "df_preselected = pd.read_csv(DATASET_DIR.joinpath('rusentiment_preselected_posts.csv'))\n",
    "df_test = pd.read_csv(DATASET_DIR.joinpath('rusentiment_test.csv'))"
   ]
  },
  {
   "cell_type": "code",
   "execution_count": 7,
   "metadata": {},
   "outputs": [],
   "source": [
    "df_train = pd.concat([df_random, df_preselected], ignore_index=True)"
   ]
  },
  {
   "cell_type": "code",
   "execution_count": 8,
   "metadata": {},
   "outputs": [
    {
     "data": {
      "text/html": [
       "<div>\n",
       "<style scoped>\n",
       "    .dataframe tbody tr th:only-of-type {\n",
       "        vertical-align: middle;\n",
       "    }\n",
       "\n",
       "    .dataframe tbody tr th {\n",
       "        vertical-align: top;\n",
       "    }\n",
       "\n",
       "    .dataframe thead th {\n",
       "        text-align: right;\n",
       "    }\n",
       "</style>\n",
       "<table border=\"1\" class=\"dataframe\">\n",
       "  <thead>\n",
       "    <tr style=\"text-align: right;\">\n",
       "      <th></th>\n",
       "      <th>label</th>\n",
       "      <th>text</th>\n",
       "    </tr>\n",
       "  </thead>\n",
       "  <tbody>\n",
       "    <tr>\n",
       "      <th>0</th>\n",
       "      <td>negative</td>\n",
       "      <td>А попа подозревала давно,что ты с кавказа..пер...</td>\n",
       "    </tr>\n",
       "    <tr>\n",
       "      <th>1</th>\n",
       "      <td>speech</td>\n",
       "      <td>З прошедшим Днем Ангела))))))))</td>\n",
       "    </tr>\n",
       "    <tr>\n",
       "      <th>2</th>\n",
       "      <td>skip</td>\n",
       "      <td>Два дня до отлёта с острова!!!!!!!</td>\n",
       "    </tr>\n",
       "    <tr>\n",
       "      <th>3</th>\n",
       "      <td>negative</td>\n",
       "      <td>Блин, почему эта жизнь столь не справедлива ((((</td>\n",
       "    </tr>\n",
       "    <tr>\n",
       "      <th>4</th>\n",
       "      <td>skip</td>\n",
       "      <td>где еще встречать свой день рождения как не на...</td>\n",
       "    </tr>\n",
       "  </tbody>\n",
       "</table>\n",
       "</div>"
      ],
      "text/plain": [
       "      label                                               text\n",
       "0  negative  А попа подозревала давно,что ты с кавказа..пер...\n",
       "1    speech                    З прошедшим Днем Ангела))))))))\n",
       "2      skip                 Два дня до отлёта с острова!!!!!!!\n",
       "3  negative   Блин, почему эта жизнь столь не справедлива ((((\n",
       "4      skip  где еще встречать свой день рождения как не на..."
      ]
     },
     "execution_count": 8,
     "metadata": {},
     "output_type": "execute_result"
    }
   ],
   "source": [
    "df_train.head()"
   ]
  },
  {
   "cell_type": "code",
   "execution_count": 10,
   "metadata": {},
   "outputs": [
    {
     "data": {
      "text/plain": [
       "<matplotlib.axes._subplots.AxesSubplot at 0x1a2abd6550>"
      ]
     },
     "execution_count": 10,
     "metadata": {},
     "output_type": "execute_result"
    },
    {
     "data": {
      "image/png": "[encoded data removed]",
      "text/plain": [
       "<Figure size 432x288 with 1 Axes>"
      ]
     },
     "metadata": {
      "needs_background": "light"
     },
     "output_type": "display_data"
    }
   ],
   "source": [
    "df_train.label.value_counts().plot(kind='bar')"
   ]
  },
  {
   "cell_type": "code",
   "execution_count": 11,
   "metadata": {},
   "outputs": [
    {
     "data": {
      "text/plain": [
       "<matplotlib.axes._subplots.AxesSubplot at 0x1a2ac3d358>"
      ]
     },
     "execution_count": 11,
     "metadata": {},
     "output_type": "execute_result"
    },
    {
     "data": {
      "image/png": "[encoded data removed]",
      "text/plain": [
       "<Figure size 432x288 with 1 Axes>"
      ]
     },
     "metadata": {
      "needs_background": "light"
     },
     "output_type": "display_data"
    }
   ],
   "source": [
    "df_test.label.value_counts().plot(kind='bar')"
   ]
  },
  {
   "cell_type": "code",
   "execution_count": 15,
   "metadata": {},
   "outputs": [
    {
     "data": {
      "text/plain": [
       "'../data/fasttext/araneum_none_fasttextcbow_300_5_2018/araneum_none_fasttextcbow_300_5_2018.model'"
      ]
     },
     "execution_count": 15,
     "metadata": {},
     "output_type": "execute_result"
    }
   ],
   "source": [
    "fasttext_file = str(FASTTEXT_DIR.joinpath(\n",
    "                'araneum_none_fasttextcbow_300_5_2018/araneum_none_fasttextcbow_300_5_2018.model'))\n",
    "fasttext_file"
   ]
  },
  {
   "cell_type": "code",
   "execution_count": 20,
   "metadata": {},
   "outputs": [],
   "source": [
    "embeddings = FastText.load(fasttext_file)"
   ]
  },
  {
   "cell_type": "code",
   "execution_count": 134,
   "metadata": {},
   "outputs": [],
   "source": [
    "class TextPreprocess(object):\n",
    "    \"\"\"Препроцессинг текста\"\"\"\n",
    "\n",
    "    def __init__(self):\n",
    "        self.mystem = Mystem()  # объект морфологического анализатора pymystem3\n",
    "\n",
    "    def lemmatize(self, text):\n",
    "        \"\"\"Получение лемматизированной строки с помощью pymystem3\"\"\"\n",
    "        lem_text = ''.join(self.mystem.lemmatize(text))\n",
    "        return lem_text\n",
    "\n",
    "    def tokenize_only(self, text):\n",
    "        \"\"\"Токенизация строки с переводом в нижний регистр,\n",
    "        удалением всего, что не является текстом\"\"\"\n",
    "        # cut all digitst from text\n",
    "        text = re.sub(r'\\d', ' ', text)\n",
    "\n",
    "        # text tokenization\n",
    "        tokens = [word.lower() for word in tokenize.WordPunctTokenizer().tokenize(text)]\n",
    "\n",
    "        # filter out any tokens not containing any letters or digits\n",
    "        filtered_tokens = [token for token in tokens if re.search(r'\\w', token)]\n",
    "\n",
    "        return filtered_tokens\n",
    "\n",
    "    def tokenize_with_lemmatize(self, text):\n",
    "        \"\"\"Токенизация строки с лемматизацией\"\"\"\n",
    "        return self.tokenize_only(self.lemmatize(text))"
   ]
  },
  {
   "cell_type": "code",
   "execution_count": 135,
   "metadata": {},
   "outputs": [],
   "source": [
    "textpreprocess = TextPreprocess()"
   ]
  },
  {
   "cell_type": "code",
   "execution_count": 65,
   "metadata": {},
   "outputs": [],
   "source": [
    "def tokenize_only(text):\n",
    "    tokenizer = TweetTokenizer()\n",
    "    text = re.sub(r'#', '# ', text)\n",
    "    tokens = tokenizer.tokenize(text)\n",
    "    return tokens"
   ]
  },
  {
   "cell_type": "code",
   "execution_count": 103,
   "metadata": {},
   "outputs": [],
   "source": [
    "def create_data_matrix_embeddings(samples, embeddings):\n",
    "    embeddings_dim = embeddings.vector_size\n",
    "    nb_samples = len(samples)\n",
    "    X = np.zeros((nb_samples, embeddings_dim), dtype=np.float32)\n",
    "\n",
    "    nb_empty = 0\n",
    "    empty_samples = []\n",
    "    for i, tokens in tqdm(enumerate(samples)):\n",
    "        tokens_embeddings = []\n",
    "        for t in tokens:\n",
    "            try:\n",
    "                tokens_embeddings.append(embeddings.wv.get_vector(t))\n",
    "            except KeyError:\n",
    "                pass\n",
    "\n",
    "        if len(tokens_embeddings) > 0:\n",
    "            mean_embeddings = np.mean(tokens_embeddings, axis=0)\n",
    "            X[i] = mean_embeddings\n",
    "        else:\n",
    "            nb_empty += 1\n",
    "            empty_samples.append(i)\n",
    "\n",
    "    print(f'Empty samples: {nb_empty}')\n",
    "\n",
    "    return X, empty_samples"
   ]
  },
  {
   "cell_type": "code",
   "execution_count": 91,
   "metadata": {},
   "outputs": [],
   "source": [
    "def score_model(model, X, y_true, labels):\n",
    "    y_pred = model.predict(X)\n",
    "\n",
    "    if len(set(y_true)) == 2:\n",
    "        average = 'binary'\n",
    "        pos_label = int(np.argwhere(labels != 'rest'))\n",
    "    else:\n",
    "        average = 'weighted'\n",
    "        pos_label = 1\n",
    "\n",
    "    accuracy = accuracy_score(y_true, y_pred)\n",
    "    f1 = f1_score(y_true, y_pred, average=average, pos_label=pos_label)\n",
    "    precision = precision_score(y_true, y_pred, average=average, pos_label=pos_label)\n",
    "    recall = recall_score(y_true, y_pred, average=average, pos_label=pos_label)\n",
    "\n",
    "    return accuracy, f1, precision, recall"
   ]
  },
  {
   "cell_type": "code",
   "execution_count": 136,
   "metadata": {},
   "outputs": [
    {
     "name": "stderr",
     "output_type": "stream",
     "text": [
      "100%|██████████| 28218/28218 [00:30<00:00, 938.34it/s] \n",
      "100%|██████████| 2967/2967 [00:02<00:00, 1025.83it/s]\n"
     ]
    }
   ],
   "source": [
    "samples_train = []\n",
    "for message in tqdm(df_train.text):\n",
    "    samples_train.append(textpreprocess.tokenize_with_lemmatize(message))\n",
    "    \n",
    "labels_train = df_train.label\n",
    "\n",
    "samples_test = []\n",
    "for message in tqdm(df_test.text):\n",
    "    samples_test.append(textpreprocess.tokenize_with_lemmatize(message))\n",
    "    \n",
    "labels_test = df_test.label"
   ]
  },
  {
   "cell_type": "code",
   "execution_count": 138,
   "metadata": {},
   "outputs": [
    {
     "name": "stdout",
     "output_type": "stream",
     "text": [
      "Labels: ['negative' 'neutral' 'positive' 'skip' 'speech']\n"
     ]
    }
   ],
   "source": [
    "label_encoder = LabelEncoder()\n",
    "label_encoder.fit(labels_train)\n",
    "print(f'Labels: {label_encoder.classes_}')"
   ]
  },
  {
   "cell_type": "code",
   "execution_count": 139,
   "metadata": {},
   "outputs": [],
   "source": [
    "y_train = label_encoder.transform(labels_train)\n",
    "y_test = label_encoder.transform(labels_test)"
   ]
  },
  {
   "cell_type": "code",
   "execution_count": 140,
   "metadata": {},
   "outputs": [
    {
     "name": "stderr",
     "output_type": "stream",
     "text": [
      "28218it [00:05, 4760.06it/s]"
     ]
    },
    {
     "name": "stdout",
     "output_type": "stream",
     "text": [
      "Empty samples: 1\n"
     ]
    },
    {
     "name": "stderr",
     "output_type": "stream",
     "text": [
      "\n"
     ]
    }
   ],
   "source": [
    "X_train, empty_samples = create_data_matrix_embeddings(samples_train, embeddings)"
   ]
  },
  {
   "cell_type": "code",
   "execution_count": 141,
   "metadata": {},
   "outputs": [
    {
     "name": "stderr",
     "output_type": "stream",
     "text": [
      "2967it [00:00, 4872.11it/s]"
     ]
    },
    {
     "name": "stdout",
     "output_type": "stream",
     "text": [
      "Empty samples: 0\n"
     ]
    },
    {
     "name": "stderr",
     "output_type": "stream",
     "text": [
      "\n"
     ]
    }
   ],
   "source": [
    "X_test, empty_samples_test = create_data_matrix_embeddings(samples_test, embeddings)"
   ]
  },
  {
   "cell_type": "code",
   "execution_count": 142,
   "metadata": {},
   "outputs": [
    {
     "name": "stdout",
     "output_type": "stream",
     "text": [
      "Х А Р А Ш О - positive\n"
     ]
    }
   ],
   "source": [
    "for ind in empty_samples:\n",
    "    print(df_train.text[ind], '-', df_train.label[ind])"
   ]
  },
  {
   "cell_type": "code",
   "execution_count": 144,
   "metadata": {},
   "outputs": [
    {
     "name": "stderr",
     "output_type": "stream",
     "text": [
      "/anaconda3/lib/python3.6/site-packages/sklearn/linear_model/logistic.py:432: FutureWarning: Default solver will be changed to 'lbfgs' in 0.22. Specify a solver to silence this warning.\n",
      "  FutureWarning)\n",
      "/anaconda3/lib/python3.6/site-packages/sklearn/linear_model/logistic.py:459: FutureWarning: Default multi_class will be changed to 'auto' in 0.22. Specify the multi_class option to silence this warning.\n",
      "  \"this warning.\", FutureWarning)\n"
     ]
    },
    {
     "name": "stdout",
     "output_type": "stream",
     "text": [
      "===== RESULTS =====\n",
      "LogisticRegression: F1 train 0.542\n",
      "LinearSVC: F1 train 0.563\n",
      "GradientBoostingClassifier: F1 train 0.640\n"
     ]
    }
   ],
   "source": [
    "models = [\n",
    "    LogisticRegression(),\n",
    "    LinearSVC(),\n",
    "    GradientBoostingClassifier(),\n",
    "    # net,\n",
    "]\n",
    "results = []\n",
    "for model in models:\n",
    "    model.fit(X_train, y_train)  # , sample_weight=sample_weight\n",
    "\n",
    "    result = score_model(model, X_train, y_train, label_encoder.classes_)\n",
    "    results.append(result)\n",
    "\n",
    "print('===== RESULTS =====')\n",
    "for model, (accuracy_train, f1_train, precision_train, recall_train) in zip(models, results):\n",
    "    model_name = model.__class__.__name__\n",
    "    print(f'{model_name}: F1 train {f1_train:.3f}')"
   ]
  },
  {
   "cell_type": "code",
   "execution_count": 145,
   "metadata": {},
   "outputs": [
    {
     "name": "stdout",
     "output_type": "stream",
     "text": [
      "===== RESULTS TEST =====\n",
      "LogisticRegression: F1 test 0.627\n",
      "LinearSVC: F1 test 0.637\n",
      "GradientBoostingClassifier: F1 test 0.661\n"
     ]
    }
   ],
   "source": [
    "results_test = []\n",
    "for model in models:\n",
    "\n",
    "    result = score_model(model, X_test, y_test, label_encoder.classes_)\n",
    "    results_test.append(result)\n",
    "\n",
    "print('===== RESULTS TEST =====')\n",
    "for model, (accuracy_train, f1_train, precision_train, recall_train) in zip(models, results_test):\n",
    "    model_name = model.__class__.__name__\n",
    "    print(f'{model_name}: F1 test {f1_train:.3f}')"
   ]
  }
 ],
 "metadata": {
  "kernelspec": {
   "display_name": "Python 3",
   "language": "python",
   "name": "python3"
  },
  "language_info": {
   "codemirror_mode": {
    "name": "ipython",
    "version": 3
   },
   "file_extension": ".py",
   "mimetype": "text/x-python",
   "name": "python",
   "nbconvert_exporter": "python",
   "pygments_lexer": "ipython3",
   "version": "3.6.6"
  }
 },
 "nbformat": 4,
 "nbformat_minor": 2
}
