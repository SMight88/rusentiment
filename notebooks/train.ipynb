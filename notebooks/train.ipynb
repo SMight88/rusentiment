{
 "cells": [
  {
   "cell_type": "code",
   "execution_count": 1,
   "metadata": {},
   "outputs": [],
   "source": [
    "import pandas as pd\n",
    "import numpy as np\n",
    "\n",
    "from pathlib import Path\n",
    "\n",
    "from tqdm import tqdm\n",
    "\n",
    "from sklearn.externals import joblib"
   ]
  },
  {
   "cell_type": "code",
   "execution_count": 2,
   "metadata": {},
   "outputs": [],
   "source": [
    "import re\n",
    "from nltk import tokenize, TweetTokenizer\n",
    "from pymystem3 import Mystem"
   ]
  },
  {
   "cell_type": "code",
   "execution_count": 3,
   "metadata": {},
   "outputs": [],
   "source": [
    "from gensim.models import KeyedVectors"
   ]
  },
  {
   "cell_type": "code",
   "execution_count": 4,
   "metadata": {},
   "outputs": [],
   "source": [
    "from sklearn.ensemble import GradientBoostingClassifier\n",
    "from sklearn.feature_extraction.text import TfidfVectorizer\n",
    "from sklearn.linear_model import LogisticRegression, RidgeClassifier\n",
    "from sklearn.preprocessing import LabelEncoder, MinMaxScaler, StandardScaler, MultiLabelBinarizer, Normalizer\n",
    "from sklearn.metrics import f1_score, precision_score, recall_score, accuracy_score, \\\n",
    "                        coverage_error, label_ranking_average_precision_score, label_ranking_loss\n",
    "from sklearn.utils.class_weight import compute_sample_weight\n",
    "from sklearn.utils import shuffle\n",
    "from sklearn.svm import SVC, LinearSVC\n",
    "from sklearn.metrics import f1_score, precision_score, recall_score, accuracy_score, confusion_matrix"
   ]
  },
  {
   "cell_type": "code",
   "execution_count": 5,
   "metadata": {},
   "outputs": [],
   "source": [
    "DATA_DIR = Path('../data/')\n",
    "DATASET_DIR = DATA_DIR.joinpath('dataset/')\n",
    "FASTTEXT_DIR = DATA_DIR.joinpath('embeddings/')"
   ]
  },
  {
   "cell_type": "code",
   "execution_count": 6,
   "metadata": {},
   "outputs": [],
   "source": [
    "df_random = pd.read_csv(DATASET_DIR.joinpath('rusentiment_random_posts.csv'))\n",
    "df_preselected = pd.read_csv(DATASET_DIR.joinpath('rusentiment_preselected_posts.csv'))\n",
    "df_test = pd.read_csv(DATASET_DIR.joinpath('rusentiment_test.csv'))"
   ]
  },
  {
   "cell_type": "code",
   "execution_count": 7,
   "metadata": {},
   "outputs": [],
   "source": [
    "df_train = pd.concat([df_random, df_preselected], ignore_index=True)"
   ]
  },
  {
   "cell_type": "code",
   "execution_count": 12,
   "metadata": {},
   "outputs": [
    {
     "data": {
      "text/html": [
       "<div>\n",
       "<style scoped>\n",
       "    .dataframe tbody tr th:only-of-type {\n",
       "        vertical-align: middle;\n",
       "    }\n",
       "\n",
       "    .dataframe tbody tr th {\n",
       "        vertical-align: top;\n",
       "    }\n",
       "\n",
       "    .dataframe thead th {\n",
       "        text-align: right;\n",
       "    }\n",
       "</style>\n",
       "<table border=\"1\" class=\"dataframe\">\n",
       "  <thead>\n",
       "    <tr style=\"text-align: right;\">\n",
       "      <th></th>\n",
       "      <th>label</th>\n",
       "      <th>text</th>\n",
       "    </tr>\n",
       "  </thead>\n",
       "  <tbody>\n",
       "    <tr>\n",
       "      <th>0</th>\n",
       "      <td>negative</td>\n",
       "      <td>А попа подозревала давно,что ты с кавказа..пер...</td>\n",
       "    </tr>\n",
       "    <tr>\n",
       "      <th>1</th>\n",
       "      <td>speech</td>\n",
       "      <td>З прошедшим Днем Ангела))))))))</td>\n",
       "    </tr>\n",
       "    <tr>\n",
       "      <th>2</th>\n",
       "      <td>skip</td>\n",
       "      <td>Два дня до отлёта с острова!!!!!!!</td>\n",
       "    </tr>\n",
       "    <tr>\n",
       "      <th>3</th>\n",
       "      <td>negative</td>\n",
       "      <td>Блин, почему эта жизнь столь не справедлива ((((</td>\n",
       "    </tr>\n",
       "    <tr>\n",
       "      <th>4</th>\n",
       "      <td>skip</td>\n",
       "      <td>где еще встречать свой день рождения как не на...</td>\n",
       "    </tr>\n",
       "  </tbody>\n",
       "</table>\n",
       "</div>"
      ],
      "text/plain": [
       "      label                                               text\n",
       "0  negative  А попа подозревала давно,что ты с кавказа..пер...\n",
       "1    speech                    З прошедшим Днем Ангела))))))))\n",
       "2      skip                 Два дня до отлёта с острова!!!!!!!\n",
       "3  negative   Блин, почему эта жизнь столь не справедлива ((((\n",
       "4      skip  где еще встречать свой день рождения как не на..."
      ]
     },
     "execution_count": 12,
     "metadata": {},
     "output_type": "execute_result"
    }
   ],
   "source": [
    "df_train.head()"
   ]
  },
  {
   "cell_type": "code",
   "execution_count": 50,
   "metadata": {},
   "outputs": [
    {
     "data": {
      "text/plain": [
       "<matplotlib.axes._subplots.AxesSubplot at 0x1a566a3d30>"
      ]
     },
     "execution_count": 50,
     "metadata": {},
     "output_type": "execute_result"
    },
    {
     "data": {
      "image/png": "[encoded data removed]",
      "text/plain": [
       "<Figure size 432x288 with 1 Axes>"
      ]
     },
     "metadata": {
      "needs_background": "light"
     },
     "output_type": "display_data"
    }
   ],
   "source": [
    "df_train.label.value_counts().plot(kind='bar')"
   ]
  },
  {
   "cell_type": "code",
   "execution_count": 51,
   "metadata": {},
   "outputs": [
    {
     "data": {
      "text/plain": [
       "<matplotlib.axes._subplots.AxesSubplot at 0x1a57475898>"
      ]
     },
     "execution_count": 51,
     "metadata": {},
     "output_type": "execute_result"
    },
    {
     "data": {
      "image/png": "[encoded data removed]",
      "text/plain": [
       "<Figure size 432x288 with 1 Axes>"
      ]
     },
     "metadata": {
      "needs_background": "light"
     },
     "output_type": "display_data"
    }
   ],
   "source": [
    "df_test.label.value_counts().plot(kind='bar')"
   ]
  },
  {
   "cell_type": "code",
   "execution_count": 52,
   "metadata": {},
   "outputs": [
    {
     "data": {
      "text/plain": [
       "'../data/embeddings/fasttext.min_count_100.vk_posts_all_443550246.300d.vec'"
      ]
     },
     "execution_count": 52,
     "metadata": {},
     "output_type": "execute_result"
    }
   ],
   "source": [
    "vec_file = str(FASTTEXT_DIR.joinpath('fasttext.min_count_100.vk_posts_all_443550246.300d.vec'))\n",
    "vec_file"
   ]
  },
  {
   "cell_type": "code",
   "execution_count": 53,
   "metadata": {},
   "outputs": [],
   "source": [
    "embeddings = KeyedVectors.load_word2vec_format(vec_file)"
   ]
  },
  {
   "cell_type": "code",
   "execution_count": 54,
   "metadata": {},
   "outputs": [],
   "source": [
    "def tokenize_only(text):\n",
    "    tokenizer = TweetTokenizer()\n",
    "    text = re.sub(r'#', '# ', text)\n",
    "    tokens = tokenizer.tokenize(text)\n",
    "    return tokens"
   ]
  },
  {
   "cell_type": "code",
   "execution_count": 55,
   "metadata": {},
   "outputs": [],
   "source": [
    "def get_embeddings_of_error_token(token, tokens_embeddings, embeddings):\n",
    "    tokens = tokenize.WordPunctTokenizer().tokenize(token)\n",
    "    for t in tokens:\n",
    "        try:\n",
    "            tokens_embeddings.append(embeddings.get_vector(t))\n",
    "        except KeyError:\n",
    "            pass\n",
    "    return tokens_embeddings"
   ]
  },
  {
   "cell_type": "code",
   "execution_count": 56,
   "metadata": {},
   "outputs": [],
   "source": [
    "def create_data_matrix_embeddings(samples, embeddings):\n",
    "    embeddings_dim = embeddings.vector_size\n",
    "    nb_samples = len(samples)\n",
    "    X = np.zeros((nb_samples, embeddings_dim), dtype=np.float32)\n",
    "\n",
    "    nb_empty = 0\n",
    "    empty_samples = []\n",
    "    for i, tokens in tqdm(enumerate(samples)):\n",
    "        tokens_embeddings = []\n",
    "        for t in tokens:\n",
    "            try:\n",
    "                tokens_embeddings.append(embeddings.get_vector(t))\n",
    "            except KeyError:\n",
    "                tokens_embedding = get_embeddings_of_error_token(t, tokens_embeddings, embeddings)\n",
    "\n",
    "        if len(tokens_embeddings) > 0:\n",
    "            mean_embeddings = np.mean(tokens_embeddings, axis=0)\n",
    "            X[i] = mean_embeddings\n",
    "        else:\n",
    "            nb_empty += 1\n",
    "            empty_samples.append(i)\n",
    "\n",
    "    print(f'Empty samples: {nb_empty}')\n",
    "\n",
    "    return X, empty_samples"
   ]
  },
  {
   "cell_type": "code",
   "execution_count": 57,
   "metadata": {},
   "outputs": [],
   "source": [
    "def score_model(model, X, y_true, labels):\n",
    "    y_pred = model.predict(X)\n",
    "\n",
    "    if len(set(y_true)) == 2:\n",
    "        average = 'binary'\n",
    "        pos_label = int(np.argwhere(labels != 'rest'))\n",
    "    else:\n",
    "        average = 'weighted'\n",
    "        pos_label = 1\n",
    "\n",
    "    accuracy = accuracy_score(y_true, y_pred)\n",
    "    f1 = f1_score(y_true, y_pred, average=average, pos_label=pos_label)\n",
    "    precision = precision_score(y_true, y_pred, average=average, pos_label=pos_label)\n",
    "    recall = recall_score(y_true, y_pred, average=average, pos_label=pos_label)\n",
    "\n",
    "    return accuracy, f1, precision, recall"
   ]
  },
  {
   "cell_type": "code",
   "execution_count": 58,
   "metadata": {},
   "outputs": [
    {
     "name": "stderr",
     "output_type": "stream",
     "text": [
      "100%|██████████| 28218/28218 [00:01<00:00, 21091.62it/s]\n",
      "100%|██████████| 2967/2967 [00:00<00:00, 20931.52it/s]\n"
     ]
    }
   ],
   "source": [
    "samples_train = []\n",
    "for message in tqdm(df_train.text):\n",
    "    samples_train.append(tokenize_only(message))\n",
    "    \n",
    "labels_train = df_train.label.values\n",
    "\n",
    "samples_test = []\n",
    "for message in tqdm(df_test.text):\n",
    "    samples_test.append(tokenize_only(message))\n",
    "    \n",
    "labels_test = df_test.label.values"
   ]
  },
  {
   "cell_type": "code",
   "execution_count": 59,
   "metadata": {},
   "outputs": [
    {
     "name": "stderr",
     "output_type": "stream",
     "text": [
      "28218it [00:01, 14562.72it/s]"
     ]
    },
    {
     "name": "stdout",
     "output_type": "stream",
     "text": [
      "Empty samples: 112\n"
     ]
    },
    {
     "name": "stderr",
     "output_type": "stream",
     "text": [
      "\n"
     ]
    }
   ],
   "source": [
    "X_train, empty_samples_train = create_data_matrix_embeddings(samples_train, embeddings)"
   ]
  },
  {
   "cell_type": "code",
   "execution_count": 60,
   "metadata": {},
   "outputs": [
    {
     "name": "stderr",
     "output_type": "stream",
     "text": [
      "2967it [00:00, 14062.54it/s]"
     ]
    },
    {
     "name": "stdout",
     "output_type": "stream",
     "text": [
      "Empty samples: 11\n"
     ]
    },
    {
     "name": "stderr",
     "output_type": "stream",
     "text": [
      "\n"
     ]
    }
   ],
   "source": [
    "X_test, empty_samples_test = create_data_matrix_embeddings(samples_test, embeddings)"
   ]
  },
  {
   "cell_type": "code",
   "execution_count": 61,
   "metadata": {},
   "outputs": [
    {
     "name": "stdout",
     "output_type": "stream",
     "text": [
      "БлондинкоОО - neutral\n",
      "ХВАТИТЗАЛИВАТЬ - negative\n",
      "ААЗЗАЗАЗХАЗАХААЗЗАА - skip\n",
      "уахахахаххахаааахахаха - positive\n",
      "вытаюююююю - skip\n",
      "порсмотри димьян - neutral\n",
      "паагморарпапаппапапрпрппнаепаепапапщимашившсшоапщиагмсомагмврсоосовеплпарпарспааналепаггарыцрпнакпенуершквнрвгрщшвунппщгеннкепенеершкншкгеннеегекенеекшнашардзоагрпшпакнршоаершппгпепгеаепенеееееепнгпеукеегшрпнрагпощрппгмлрсевлаацлщапоивнирпгагсршивщзпиуршпмугз - skip\n",
      "Катяяяяяяяяяя - neutral\n",
      "БЛЯЯЯЯЯНУПОЧЕМУТЫТАКАЯКРАСИВАЯ - skip\n",
      "либерж кпадону - skip\n",
      "девачька:) - neutral\n",
      "рпрпррртоьболпрмас - skip\n",
      "внатурекупарос - skip\n",
      "Начинааается :) - skip\n",
      "минималистика - neutral\n",
      "Опаааа Ребетняя - skip\n",
      "Понаприсоединяли - negative\n",
      "Хаһан быраһынньыктар бүтэллэр - skip\n",
      "хахахаххаахха - positive\n",
      "вытыка тишиншила - skip\n",
      "ДОЛБОЁЁЁЁЁЁЁЁЁЁЁЁЁБ - negative\n",
      "АХАХХАХХХАХАХ - positive\n",
      "обсыкалово - negative\n",
      "игоряяяяян - neutral\n",
      "залипное зачитание - skip\n",
      "ЗАААЗДРЮЮЮ - skip\n",
      "ПОСТИ\n",
      "ПОСТИ\n",
      "ПОСТИ - skip\n",
      "Микроблогинг - neutral\n",
      "ЛАЛАЛЛАЛАА - skip\n",
      "СКучашкккиииииииииииииииииии - negative\n",
      "лалалалалалааааааааа - skip\n",
      "левин труено - neutral\n",
      "КАНТАКТСЛАМАЛСЯ - skip\n",
      "ХХХАААХХХАААХХХ - positive\n",
      "АХАХХАХАХАХААХАХХАХАХАХАХАХАХАХАХ - positive\n",
      "Глаголевомальдивы - neutral\n",
      "СМОТРЭТЬ ОБЕЗАТЭЛЬНО - skip\n",
      "ЖенькООООООО - neutral\n",
      "ЁЁЁЁЁЁЁЁЁЁЁЁЁЁЁЁЁуууууууууууууу - skip\n",
      "хорошенькоооо - positive\n",
      "ахахахххах - positive\n",
      "Приветiки:):):) - skip\n",
      "Офигеееть\n",
      " - skip\n",
      "ЛСССССССССССССССССС откроййййййййййййййййййййй - skip\n",
      "Виликии мастира арийскава бойа - skip\n",
      "Игнорируете:( - negative\n",
      "пиздасоседям - negative\n",
      "Ознобишкин - skip\n",
      "ТАНЦЕВАААААААААААААААААААААААТЬЬЬЬЬЬЬЬЬЬЬЬЬЬЬЬЬЬЬЬЬЬЬЬЬЬ - positive\n",
      "хахахаахахах - positive\n",
      "Ахахахаххх - positive\n",
      "Жужжжжжжжааааа - skip\n",
      "ЗЭЭЭЭэээЭЭДД - skip\n",
      "Островитянка - neutral\n",
      "любименькое - positive\n",
      "пациккккккк - neutral\n",
      "Вероникаааааааааааааааааааааааааааааа - skip\n",
      "электромонтер - neutral\n",
      "Петрао Ёлкчан - skip\n",
      "Ваххахааахаахахахаахаааа - positive\n",
      "ахахахааах - positive\n",
      "ахаххахаахахахахахахахахахахах - positive\n",
      "деа штудэнт - skip\n",
      "АХАХАХАХАХАХАХАХАХАХАХАХАХАХАХАХАХАХАХАХАХАХАХАХАХАХХАХАХАХАХАХАХАХАХАХАХАХАХАХАХАХАХАХАХАХАХАХАХАХАХАХАХАХАХАХАХАХАХАХАХАХАХА - positive\n",
      "Сестрюююшки:) - positive\n",
      "Ахаахаххахахаха - positive\n",
      "СААААШШШАШААААА - neutral\n",
      "Армреслинг - neutral\n",
      "припееееев - skip\n",
      "Плсторел :'( - negative\n",
      "Обломище :( - negative\n",
      "ООООООТТТТТТТППППППППУУУУУСССССССККККККККК ЦУКО - skip\n",
      "爱情保质期能有多长？ - skip\n",
      "сломалсяпробелнаклавиатуре - neutral\n",
      "Припарковались - neutral\n",
      "Бвагагагага - positive\n",
      "лалалалалалааа - skip\n",
      "педоффффффка - negative\n",
      "раздражаааааааешь - negative\n",
      "фывапролджэ - skip\n",
      "наданаданада - neutral\n",
      "Бухенвальдыш - skip\n",
      "Невъебаться - neutral\n",
      "ГРОЗНЫЕ :) - neutral\n",
      "Сукииииииииииииииииии - negative\n",
      "Григоряшкааааааа - positive\n",
      "евшан зiлля - skip\n",
      "Подкрадухи - neutral\n",
      "Шкоооольник - neutral\n",
      "나를 당신을 그립니다 - skip\n",
      "БЕРИБИЛЕТНАШЕРЕМЕТЬЕГОБЕРИБИЛЕТНАШЕРЕМЕТЬЕГОБЕРИБИЛЕТНАШЕРЕМЕТЬЕГОБЕРИБИЛЕТНАШЕРЕМЕТЬЕГОБЕРИБИЛЕТНАШЕРЕМЕТЬЕГОБЕРИБИЛЕТНАШЕРЕМЕТЬЕГОБЕРИБИЛЕТНАШЕРЕМЕТЬЕГОБЕРИБИЛЕТНАШЕРЕМЕТЬЕГОБЕРИБИЛЕТНАШЕРЕМЕТЬЕГОБЕРИБИЛЕТНАШЕРЕМЕТЬЕГОБЕРИБИЛЕТНАШЕРЕМЕТЬЕГОБЕРИБИЛЕТНАШЕРЕМЕТЬЕГОБЕРИБИЛЕТНАШЕРЕМЕТЬЕГОБЕРИБИЛЕТНАШЕРЕМЕТЬЕГОБЕРИБИЛЕТНАШЕРЕМЕТЬЕГОБЕРИБИЛЕТНАШЕРЕМЕТЬЕГОБЕРИБИЛЕТНАШЕРЕМЕТЬЕГОБЕРИБИЛЕТНАШЕРЕМЕТЬЕГОБЕРИБИЛЕТНАШЕРЕМЕТЬЕГОБЕРИБИЛЕТНАШЕРЕМЕТЬЕГО - skip\n",
      "коперфильд - neutral\n",
      "ВЛААААААААААААААД - neutral\n",
      "ююююхххххххххххуууууууууу - positive\n",
      "Невыспался - negative\n",
      "Вотанааааа - neutral\n",
      "дискордианство - neutral\n",
      "Задиракстер - skip\n",
      "Дааааааааш - neutral\n",
      "говночеловечек - negative\n",
      "ба5ар дэриэбинэбэр брар боллм дьии - skip\n",
      "яАХАХАХАХАХААХАХАХАХАХ ПАЛУЧАЙ ГУУУБУ - positive\n",
      "Восхетительная - positive\n",
      "ненуачобыинет - skip\n",
      "лошкаай снек мишааая - skip\n",
      "Предметмоеймечты - neutral\n",
      "卐Здоров бандиты卐 - speech\n",
      "хочухочухочухочу - positive\n",
      "динчик бинчик - neutral\n",
      "зшбсь пснка - positive\n",
      "Залипабельно - neutral\n",
      "Страусяк=) - skip\n"
     ]
    }
   ],
   "source": [
    "for ind in empty_samples_train:\n",
    "    print(df_train.text[ind], '-', df_train.label[ind])"
   ]
  },
  {
   "cell_type": "code",
   "execution_count": 92,
   "metadata": {},
   "outputs": [
    {
     "name": "stdout",
     "output_type": "stream",
     "text": [
      "армииииииииииииииииииииииииииииииииииииииииииииииииин - neutral\n",
      "Находские беспризорники - neutral\n",
      "Владимировичи - neutral\n",
      "Роналдооооо - neutral\n",
      "Кумеееееееееееееееееееее :) - skip\n",
      "ахахвхвхахахбхахахахбхахахбхахахахахахбхахбха - positive\n",
      "Мастурбирен порноста - skip\n",
      "вспомнииииим крутууую - positive\n",
      "ОПАСА СУЦКА - skip\n",
      "ИЗМЕНЩИИИИКК - negative\n",
      "ИюньНасРадует - positive\n"
     ]
    }
   ],
   "source": [
    "for ind in empty_samples_test:\n",
    "    print(df_test.text[ind], '-', df_test.label[ind])"
   ]
  },
  {
   "cell_type": "code",
   "execution_count": 62,
   "metadata": {},
   "outputs": [],
   "source": [
    "# Удаляем все нулевые вектора\n",
    "\n",
    "X_train = np.delete(X_train, empty_samples_train, axis=0)\n",
    "labels_train = np.delete(labels_train, empty_samples_train)\n",
    "\n",
    "X_test = np.delete(X_test, empty_samples_test, axis=0)\n",
    "labels_test = np.delete(labels_test, empty_samples_test)"
   ]
  },
  {
   "cell_type": "code",
   "execution_count": 132,
   "metadata": {},
   "outputs": [],
   "source": [
    "# # Все нулевые вектора будут иметь лейбл skip\n",
    "\n",
    "# for ind in empty_samples:\n",
    "#     labels_train[ind] = 'skip'\n",
    "    \n",
    "# for ind in empty_samples_test:\n",
    "#     labels_test[ind] = 'skip'"
   ]
  },
  {
   "cell_type": "code",
   "execution_count": 64,
   "metadata": {},
   "outputs": [
    {
     "name": "stdout",
     "output_type": "stream",
     "text": [
      "Labels: ['negative' 'neutral' 'positive' 'skip' 'speech']\n"
     ]
    }
   ],
   "source": [
    "label_encoder = LabelEncoder()\n",
    "label_encoder.fit(labels_train)\n",
    "print(f'Labels: {label_encoder.classes_}')\n",
    "\n",
    "y_train = label_encoder.transform(labels_train)\n",
    "y_test = label_encoder.transform(labels_test)"
   ]
  },
  {
   "cell_type": "code",
   "execution_count": 74,
   "metadata": {},
   "outputs": [
    {
     "data": {
      "text/plain": [
       "['../data/label_encoder.pkl']"
      ]
     },
     "execution_count": 74,
     "metadata": {},
     "output_type": "execute_result"
    }
   ],
   "source": [
    "# save label_encoder\n",
    "joblib.dump(label_encoder, str(DATA_DIR.joinpath('label_encoder.pkl')))"
   ]
  },
  {
   "cell_type": "code",
   "execution_count": 66,
   "metadata": {},
   "outputs": [],
   "source": [
    "scaler = StandardScaler()\n",
    "scaler.fit(X_train)\n",
    "\n",
    "X_train = scaler.transform(X_train)\n",
    "X_test = scaler.transform(X_test)"
   ]
  },
  {
   "cell_type": "code",
   "execution_count": 70,
   "metadata": {},
   "outputs": [
    {
     "data": {
      "text/plain": [
       "(28106, 300)"
      ]
     },
     "execution_count": 70,
     "metadata": {},
     "output_type": "execute_result"
    }
   ],
   "source": [
    "X_train.shape"
   ]
  },
  {
   "cell_type": "code",
   "execution_count": 38,
   "metadata": {},
   "outputs": [
    {
     "data": {
      "text/plain": [
       "['../data/scaler.pkl']"
      ]
     },
     "execution_count": 38,
     "metadata": {},
     "output_type": "execute_result"
    }
   ],
   "source": [
    "# save scaler\n",
    "joblib.dump(scaler, str(DATA_DIR.joinpath('scaler.pkl')))"
   ]
  },
  {
   "cell_type": "code",
   "execution_count": 96,
   "metadata": {},
   "outputs": [
    {
     "name": "stderr",
     "output_type": "stream",
     "text": [
      "/anaconda3/lib/python3.6/site-packages/sklearn/svm/base.py:196: FutureWarning: The default value of gamma will change from 'auto' to 'scale' in version 0.22 to account better for unscaled features. Set gamma explicitly to 'auto' or 'scale' to avoid this warning.\n",
      "  \"avoid this warning.\", FutureWarning)\n"
     ]
    },
    {
     "data": {
      "text/plain": [
       "SVC(C=1.0, cache_size=200, class_weight=None, coef0=0.0,\n",
       "  decision_function_shape='ovr', degree=3, gamma='auto_deprecated',\n",
       "  kernel='rbf', max_iter=-1, probability=False, random_state=None,\n",
       "  shrinking=True, tol=0.001, verbose=False)"
      ]
     },
     "execution_count": 96,
     "metadata": {},
     "output_type": "execute_result"
    }
   ],
   "source": [
    "model_svc = SVC()\n",
    "model_svc.fit(X_train, y_train)"
   ]
  },
  {
   "cell_type": "code",
   "execution_count": 97,
   "metadata": {},
   "outputs": [
    {
     "data": {
      "text/plain": [
       "(0.6919342263803246,\n",
       " 0.6796367714216114,\n",
       " 0.7014865501131173,\n",
       " 0.6919342263803246)"
      ]
     },
     "execution_count": 97,
     "metadata": {},
     "output_type": "execute_result"
    }
   ],
   "source": [
    "score_model(model, X_train, y_train, label_encoder.classes_)"
   ]
  },
  {
   "cell_type": "code",
   "execution_count": 98,
   "metadata": {},
   "outputs": [
    {
     "data": {
      "text/plain": [
       "(0.6976744186046512,\n",
       " 0.6887124797119177,\n",
       " 0.6940595534907658,\n",
       " 0.6976744186046512)"
      ]
     },
     "execution_count": 98,
     "metadata": {},
     "output_type": "execute_result"
    }
   ],
   "source": [
    "score_model(model, X_test, y_test, label_encoder.classes_)"
   ]
  },
  {
   "cell_type": "code",
   "execution_count": 164,
   "metadata": {},
   "outputs": [
    {
     "name": "stderr",
     "output_type": "stream",
     "text": [
      "/anaconda3/lib/python3.6/site-packages/sklearn/linear_model/logistic.py:432: FutureWarning: Default solver will be changed to 'lbfgs' in 0.22. Specify a solver to silence this warning.\n",
      "  FutureWarning)\n",
      "/anaconda3/lib/python3.6/site-packages/sklearn/linear_model/logistic.py:459: FutureWarning: Default multi_class will be changed to 'auto' in 0.22. Specify the multi_class option to silence this warning.\n",
      "  \"this warning.\", FutureWarning)\n"
     ]
    },
    {
     "name": "stdout",
     "output_type": "stream",
     "text": [
      "===== RESULTS =====\n",
      "LogisticRegression: F1 train 0.632\n",
      "LinearSVC: F1 train 0.627\n",
      "GradientBoostingClassifier: F1 train 0.681\n",
      "===== RESULTS TEST =====\n",
      "LogisticRegression: F1 test 0.694\n",
      "LinearSVC: F1 test 0.696\n",
      "GradientBoostingClassifier: F1 test 0.690\n"
     ]
    }
   ],
   "source": [
    "#  Удалили все нулевые вектора\n",
    "\n",
    "models = [\n",
    "    LogisticRegression(),\n",
    "    LinearSVC(),\n",
    "    GradientBoostingClassifier(),\n",
    "    # net,\n",
    "]\n",
    "results = []\n",
    "for model in models:\n",
    "    model.fit(X_train, y_train)  # , sample_weight=sample_weight\n",
    "\n",
    "    result = score_model(model, X_train, y_train, label_encoder.classes_)\n",
    "    results.append(result)\n",
    "\n",
    "print('===== RESULTS =====')\n",
    "for model, (accuracy_train, f1_train, precision_train, recall_train) in zip(models, results):\n",
    "    model_name = model.__class__.__name__\n",
    "    print(f'{model_name}: F1 train {f1_train:.3f}')\n",
    "\n",
    "    \n",
    "results_test = []\n",
    "for model in models:\n",
    "\n",
    "    result = score_model(model, X_test, y_test, label_encoder.classes_)\n",
    "    results_test.append(result)\n",
    "\n",
    "print('===== RESULTS TEST =====')\n",
    "for model, (accuracy_train, f1_train, precision_train, recall_train) in zip(models, results_test):\n",
    "    model_name = model.__class__.__name__\n",
    "    print(f'{model_name}: F1 test {f1_train:.3f}')"
   ]
  },
  {
   "cell_type": "code",
   "execution_count": 165,
   "metadata": {},
   "outputs": [
    {
     "name": "stderr",
     "output_type": "stream",
     "text": [
      "/anaconda3/lib/python3.6/site-packages/sklearn/svm/base.py:196: FutureWarning: The default value of gamma will change from 'auto' to 'scale' in version 0.22 to account better for unscaled features. Set gamma explicitly to 'auto' or 'scale' to avoid this warning.\n",
      "  \"avoid this warning.\", FutureWarning)\n"
     ]
    },
    {
     "data": {
      "text/plain": [
       "SVC(C=1.0, cache_size=200, class_weight=None, coef0=0.0,\n",
       "  decision_function_shape='ovr', degree=3, gamma='auto_deprecated',\n",
       "  kernel='rbf', max_iter=-1, probability=False, random_state=None,\n",
       "  shrinking=True, tol=0.001, verbose=False)"
      ]
     },
     "execution_count": 165,
     "metadata": {},
     "output_type": "execute_result"
    }
   ],
   "source": [
    "model_svc = SVC()\n",
    "model_svc.fit(X_train, y_train)"
   ]
  },
  {
   "cell_type": "code",
   "execution_count": 166,
   "metadata": {},
   "outputs": [
    {
     "data": {
      "text/plain": [
       "(0.6999323410013532,\n",
       " 0.6902278650256204,\n",
       " 0.6981902339361834,\n",
       " 0.6999323410013532)"
      ]
     },
     "execution_count": 166,
     "metadata": {},
     "output_type": "execute_result"
    }
   ],
   "source": [
    "score_model(model, X_test, y_test, label_encoder.classes_)"
   ]
  },
  {
   "cell_type": "code",
   "execution_count": 415,
   "metadata": {},
   "outputs": [],
   "source": [
    "from keras import backend as K\n",
    "from keras.utils import to_categorical\n",
    "from keras.models import load_model, Sequential, Model\n",
    "from keras.layers import Input, Dense, Dropout, Activation, InputLayer\n",
    "from keras.layers import Embedding, LSTM, Conv1D, MaxPooling1D, GlobalMaxPooling1D\n",
    "from keras.preprocessing import sequence\n",
    "from keras.preprocessing.text import Tokenizer\n",
    "from keras.metrics import binary_accuracy\n",
    "from keras.callbacks import Callback\n",
    "from keras.optimizers import Adam, SGD"
   ]
  },
  {
   "cell_type": "code",
   "execution_count": 416,
   "metadata": {},
   "outputs": [],
   "source": [
    "def precision(y_true, y_pred):\n",
    "    true_positives = K.sum(K.round(K.clip(y_true * y_pred, 0, 1)))\n",
    "    predicted_positives = K.sum(K.round(K.clip(y_pred, 0, 1)))\n",
    "    precision = true_positives / (predicted_positives + K.epsilon())\n",
    "    return precision\n",
    "\n",
    "\n",
    "def recall(y_true, y_pred):\n",
    "    true_positives = K.sum(K.round(K.clip(y_true * y_pred, 0, 1)))\n",
    "    possible_positives = K.sum(K.round(K.clip(y_true, 0, 1)))\n",
    "    recall = true_positives / (possible_positives + K.epsilon())\n",
    "    return recall\n",
    "\n",
    "\n",
    "def fbeta(y_true, y_pred, beta=1):\n",
    "    if beta < 0:\n",
    "        raise ValueError('The lowest choosable beta is zero (only precision).')\n",
    "\n",
    "    # If there are no true positives, fix the F score at 0 like sklearn.\n",
    "    if K.sum(K.round(K.clip(y_true, 0, 1))) == 0:\n",
    "        return 0\n",
    "\n",
    "    p = precision(y_true, y_pred)\n",
    "    r = recall(y_true, y_pred)\n",
    "    bb = beta ** 2\n",
    "    fbeta = (1 + bb) * (p * r) / (bb * p + r + K.epsilon())\n",
    "    return fbeta\n",
    "\n",
    "def f1score(y_true, y_pred):\n",
    "    return fbeta(y_true, y_pred, beta=1)"
   ]
  },
  {
   "cell_type": "code",
   "execution_count": 417,
   "metadata": {},
   "outputs": [
    {
     "data": {
      "text/plain": [
       "300"
      ]
     },
     "execution_count": 417,
     "metadata": {},
     "output_type": "execute_result"
    }
   ],
   "source": [
    "input_shape = X_train.shape[1]\n",
    "input_shape"
   ]
  },
  {
   "cell_type": "code",
   "execution_count": 39,
   "metadata": {},
   "outputs": [],
   "source": [
    "mlb = MultiLabelBinarizer()\n",
    "y_train_mlb = mlb.fit_transform([[i] for i in labels_train])\n",
    "y_test_mlb = mlb.transform([[i] for i in labels_test])"
   ]
  },
  {
   "cell_type": "code",
   "execution_count": 41,
   "metadata": {},
   "outputs": [
    {
     "data": {
      "text/plain": [
       "['../data/mlb.pkl']"
      ]
     },
     "execution_count": 41,
     "metadata": {},
     "output_type": "execute_result"
    }
   ],
   "source": [
    "# save mlb\n",
    "joblib.dump(mlb, str(DATA_DIR.joinpath('mlb.pkl')))"
   ]
  },
  {
   "cell_type": "code",
   "execution_count": 40,
   "metadata": {},
   "outputs": [
    {
     "data": {
      "text/plain": [
       "array(['negative', 'neutral', 'positive', 'skip', 'speech'], dtype=object)"
      ]
     },
     "execution_count": 40,
     "metadata": {},
     "output_type": "execute_result"
    }
   ],
   "source": [
    "label_encoder.classes_"
   ]
  },
  {
   "cell_type": "code",
   "execution_count": 448,
   "metadata": {},
   "outputs": [],
   "source": [
    "n_classes = mlb.classes_.shape[0]"
   ]
  },
  {
   "cell_type": "code",
   "execution_count": 422,
   "metadata": {},
   "outputs": [
    {
     "name": "stdout",
     "output_type": "stream",
     "text": [
      "_________________________________________________________________\n",
      "Layer (type)                 Output Shape              Param #   \n",
      "=================================================================\n",
      "dense_67 (Dense)             (None, 300)               90300     \n",
      "_________________________________________________________________\n",
      "activation_89 (Activation)   (None, 300)               0         \n",
      "_________________________________________________________________\n",
      "dropout_59 (Dropout)         (None, 300)               0         \n",
      "_________________________________________________________________\n",
      "dense_68 (Dense)             (None, 100)               30100     \n",
      "_________________________________________________________________\n",
      "activation_90 (Activation)   (None, 100)               0         \n",
      "_________________________________________________________________\n",
      "dropout_60 (Dropout)         (None, 100)               0         \n",
      "_________________________________________________________________\n",
      "dense_69 (Dense)             (None, 5)                 505       \n",
      "_________________________________________________________________\n",
      "activation_91 (Activation)   (None, 5)                 0         \n",
      "=================================================================\n",
      "Total params: 120,905\n",
      "Trainable params: 120,905\n",
      "Non-trainable params: 0\n",
      "_________________________________________________________________\n"
     ]
    }
   ],
   "source": [
    "model = Sequential()\n",
    "model.add(Dense(input_shape, input_shape=(input_shape,)))\n",
    "model.add(Activation('relu'))\n",
    "model.add(Dropout(0.3))\n",
    "model.add(Dense(100))\n",
    "model.add(Activation('relu'))\n",
    "model.add(Dropout(0.3))\n",
    "model.add(Dense(n_classes))\n",
    "model.add(Activation('softmax'))\n",
    "\n",
    "\n",
    "model.compile(loss='binary_crossentropy',\n",
    "              optimizer='adam',\n",
    "              metrics=['accuracy', precision, recall, f1score])\n",
    "\n",
    "model.summary()"
   ]
  },
  {
   "cell_type": "code",
   "execution_count": 423,
   "metadata": {},
   "outputs": [],
   "source": [
    "batch_size = 256\n",
    "epochs = 14"
   ]
  },
  {
   "cell_type": "code",
   "execution_count": 424,
   "metadata": {},
   "outputs": [],
   "source": [
    "def nn_batch_generator(X_data, y_data, batch_size):\n",
    "    samples_per_epoch = X_data.shape[0]\n",
    "    number_of_batches = samples_per_epoch/batch_size\n",
    "    counter=0\n",
    "    index = np.arange(np.shape(y_data)[0])\n",
    "    while 1:\n",
    "        index_batch = index[batch_size*counter:batch_size*(counter+1)]\n",
    "        X_batch = X_data[index_batch,:]\n",
    "        y_batch = y_data[index_batch]\n",
    "        counter += 1\n",
    "        yield np.array(X_batch),y_batch\n",
    "        if (counter > number_of_batches):\n",
    "            counter=0"
   ]
  },
  {
   "cell_type": "code",
   "execution_count": 425,
   "metadata": {},
   "outputs": [
    {
     "name": "stdout",
     "output_type": "stream",
     "text": [
      "Epoch 1/14\n",
      "110/109 [==============================] - 5s 49ms/step - loss: 0.3662 - acc: 0.8410 - precision: 0.6651 - recall: 0.3915 - f1score: 0.4907 - val_loss: 0.2748 - val_acc: 0.8814 - val_precision: 0.8310 - val_recall: 0.5105 - val_f1score: 0.6320\n",
      "Epoch 2/14\n",
      "110/109 [==============================] - 2s 20ms/step - loss: 0.3101 - acc: 0.8643 - precision: 0.7423 - recall: 0.4872 - f1score: 0.5867 - val_loss: 0.2565 - val_acc: 0.8916 - val_precision: 0.8275 - val_recall: 0.5785 - val_f1score: 0.6807\n",
      "Epoch 3/14\n",
      "110/109 [==============================] - 2s 20ms/step - loss: 0.2931 - acc: 0.8716 - precision: 0.7545 - recall: 0.5272 - f1score: 0.6198 - val_loss: 0.2489 - val_acc: 0.8951 - val_precision: 0.8169 - val_recall: 0.6120 - val_f1score: 0.6996\n",
      "Epoch 4/14\n",
      "110/109 [==============================] - 2s 20ms/step - loss: 0.2827 - acc: 0.8770 - precision: 0.7654 - recall: 0.5517 - f1score: 0.6402 - val_loss: 0.2477 - val_acc: 0.8960 - val_precision: 0.8129 - val_recall: 0.6228 - val_f1score: 0.7051\n",
      "Epoch 5/14\n",
      "110/109 [==============================] - 2s 22ms/step - loss: 0.2724 - acc: 0.8819 - precision: 0.7739 - recall: 0.5754 - f1score: 0.6591 - val_loss: 0.2456 - val_acc: 0.8980 - val_precision: 0.8119 - val_recall: 0.6373 - val_f1score: 0.7138\n",
      "Epoch 6/14\n",
      "110/109 [==============================] - 2s 20ms/step - loss: 0.2654 - acc: 0.8848 - precision: 0.7792 - recall: 0.5878 - f1score: 0.6692 - val_loss: 0.2445 - val_acc: 0.8981 - val_precision: 0.8062 - val_recall: 0.6455 - val_f1score: 0.7166\n",
      "Epoch 7/14\n",
      "110/109 [==============================] - 2s 20ms/step - loss: 0.2606 - acc: 0.8879 - precision: 0.7863 - recall: 0.6007 - f1score: 0.6802 - val_loss: 0.2452 - val_acc: 0.8980 - val_precision: 0.7987 - val_recall: 0.6549 - val_f1score: 0.7195\n",
      "Epoch 8/14\n",
      "110/109 [==============================] - 2s 20ms/step - loss: 0.2525 - acc: 0.8908 - precision: 0.7911 - recall: 0.6147 - f1score: 0.6911 - val_loss: 0.2452 - val_acc: 0.8978 - val_precision: 0.7975 - val_recall: 0.6553 - val_f1score: 0.7192\n",
      "Epoch 9/14\n",
      "110/109 [==============================] - 2s 22ms/step - loss: 0.2466 - acc: 0.8933 - precision: 0.7944 - recall: 0.6273 - f1score: 0.7005 - val_loss: 0.2442 - val_acc: 0.9013 - val_precision: 0.8025 - val_recall: 0.6719 - val_f1score: 0.7312\n",
      "Epoch 10/14\n",
      "110/109 [==============================] - 2s 20ms/step - loss: 0.2416 - acc: 0.8964 - precision: 0.8010 - recall: 0.6393 - f1score: 0.7105 - val_loss: 0.2466 - val_acc: 0.8994 - val_precision: 0.7968 - val_recall: 0.6668 - val_f1score: 0.7259\n",
      "Epoch 11/14\n",
      "110/109 [==============================] - 2s 20ms/step - loss: 0.2351 - acc: 0.8996 - precision: 0.8102 - recall: 0.6484 - f1score: 0.7197 - val_loss: 0.2466 - val_acc: 0.8999 - val_precision: 0.7901 - val_recall: 0.6796 - val_f1score: 0.7306\n",
      "Epoch 12/14\n",
      "110/109 [==============================] - 2s 20ms/step - loss: 0.2307 - acc: 0.9014 - precision: 0.8109 - recall: 0.6597 - f1score: 0.7270 - val_loss: 0.2467 - val_acc: 0.9016 - val_precision: 0.7944 - val_recall: 0.6850 - val_f1score: 0.7356\n",
      "Epoch 13/14\n",
      "110/109 [==============================] - 2s 22ms/step - loss: 0.2264 - acc: 0.9032 - precision: 0.8146 - recall: 0.6671 - f1score: 0.7331 - val_loss: 0.2483 - val_acc: 0.9003 - val_precision: 0.7906 - val_recall: 0.6817 - val_f1score: 0.7320\n",
      "Epoch 14/14\n",
      "110/109 [==============================] - 2s 20ms/step - loss: 0.2202 - acc: 0.9066 - precision: 0.8227 - recall: 0.6781 - f1score: 0.7430 - val_loss: 0.2529 - val_acc: 0.8985 - val_precision: 0.7838 - val_recall: 0.6800 - val_f1score: 0.7281\n"
     ]
    }
   ],
   "source": [
    "history = model.fit_generator(generator=nn_batch_generator(X_train, y_train_mlb, batch_size),\n",
    "                              epochs=epochs,\n",
    "                              validation_data=(X_test, y_test_mlb),\n",
    "#                               callbacks=[metrics],\n",
    "                              steps_per_epoch=X_train.shape[0]/batch_size)"
   ]
  },
  {
   "cell_type": "code",
   "execution_count": 426,
   "metadata": {},
   "outputs": [
    {
     "name": "stdout",
     "output_type": "stream",
     "text": [
      "dict_keys(['val_loss', 'val_acc', 'val_precision', 'val_recall', 'val_f1score', 'loss', 'acc', 'precision', 'recall', 'f1score'])\n"
     ]
    },
    {
     "data": {
      "image/png": "[encoded data removed]",
      "text/plain": [
       "<Figure size 432x288 with 1 Axes>"
      ]
     },
     "metadata": {
      "needs_background": "light"
     },
     "output_type": "display_data"
    },
    {
     "data": {
      "image/png": "[encoded data removed]",
      "text/plain": [
       "<Figure size 432x288 with 1 Axes>"
      ]
     },
     "metadata": {
      "needs_background": "light"
     },
     "output_type": "display_data"
    },
    {
     "data": {
      "image/png": "[encoded data removed]",
      "text/plain": [
       "<Figure size 432x288 with 1 Axes>"
      ]
     },
     "metadata": {
      "needs_background": "light"
     },
     "output_type": "display_data"
    }
   ],
   "source": [
    "import matplotlib.pyplot as plt\n",
    "%matplotlib inline\n",
    "\n",
    "# list all data in history\n",
    "print(history.history.keys())\n",
    "# summarize history for accuracy\n",
    "plt.plot(history.history['acc'])\n",
    "plt.plot(history.history['val_acc'])\n",
    "plt.title('model accuracy')\n",
    "plt.ylabel('accuracy')\n",
    "plt.xlabel('epoch')\n",
    "plt.legend(['train', 'test'], loc='upper left')\n",
    "plt.show()\n",
    "# summarize history for loss\n",
    "plt.plot(history.history['loss'])\n",
    "plt.plot(history.history['val_loss'])\n",
    "plt.title('model loss')\n",
    "plt.ylabel('loss')\n",
    "plt.xlabel('epoch')\n",
    "plt.legend(['train', 'test'], loc='upper left')\n",
    "plt.show()\n",
    "# summarize history for f1score\n",
    "plt.plot(history.history['f1score'])\n",
    "plt.plot(history.history['val_f1score'])\n",
    "plt.title('model f1score')\n",
    "plt.ylabel('f1score')\n",
    "plt.xlabel('epoch')\n",
    "plt.legend(['train', 'test'], loc='upper left')\n",
    "plt.show()"
   ]
  },
  {
   "cell_type": "code",
   "execution_count": 427,
   "metadata": {},
   "outputs": [],
   "source": [
    "preds = model.predict(X_test)"
   ]
  },
  {
   "cell_type": "code",
   "execution_count": 72,
   "metadata": {},
   "outputs": [
    {
     "data": {
      "text/plain": [
       "(2956, 300)"
      ]
     },
     "execution_count": 72,
     "metadata": {},
     "output_type": "execute_result"
    }
   ],
   "source": [
    "X_test.shape"
   ]
  },
  {
   "cell_type": "code",
   "execution_count": 434,
   "metadata": {},
   "outputs": [],
   "source": [
    "y_preds = []\n",
    "for pred in preds:\n",
    "    max_pred = max(pred)\n",
    "    max_pred_position = np.where(pred==max_pred)[0][0]\n",
    "    y_preds.append(mlb.classes_[max_pred_position])"
   ]
  },
  {
   "cell_type": "code",
   "execution_count": 438,
   "metadata": {},
   "outputs": [],
   "source": [
    "y_preds_encode = label_encoder.transform(y_preds)"
   ]
  },
  {
   "cell_type": "code",
   "execution_count": 441,
   "metadata": {},
   "outputs": [],
   "source": [
    "y_true = y_test\n",
    "y_pred = y_preds_encode"
   ]
  },
  {
   "cell_type": "code",
   "execution_count": 442,
   "metadata": {},
   "outputs": [],
   "source": [
    "accuracy = accuracy_score(y_true, y_pred)\n",
    "f1 = f1_score(y_true, y_pred, average='weighted', pos_label=1)\n",
    "precision = precision_score(y_true, y_pred, average='weighted', pos_label=1)\n",
    "recall = recall_score(y_true, y_pred, average='weighted', pos_label=1)"
   ]
  },
  {
   "cell_type": "code",
   "execution_count": 458,
   "metadata": {},
   "outputs": [
    {
     "name": "stdout",
     "output_type": "stream",
     "text": [
      "MLP model: \n",
      " accuracy - 0.7449255751014885, \n",
      " f1 - 0.7373051183372504, \n",
      " precision - 0.7392262644920623, \n",
      " recall - 0.7449255751014885\n"
     ]
    }
   ],
   "source": [
    "print('MLP model: \\n accuracy - %s, \\n f1 - %s, \\n precision - %s, \\n recall - %s' % (accuracy, f1, precision, recall))"
   ]
  },
  {
   "cell_type": "code",
   "execution_count": 444,
   "metadata": {},
   "outputs": [],
   "source": [
    "# Model SAVE!\n",
    "model.save(str(DATA_DIR.joinpath('mlp.h5')))"
   ]
  },
  {
   "cell_type": "code",
   "execution_count": null,
   "metadata": {},
   "outputs": [],
   "source": []
  },
  {
   "cell_type": "code",
   "execution_count": null,
   "metadata": {},
   "outputs": [],
   "source": []
  }
 ],
 "metadata": {
  "kernelspec": {
   "display_name": "Python 3",
   "language": "python",
   "name": "python3"
  },
  "language_info": {
   "codemirror_mode": {
    "name": "ipython",
    "version": 3
   },
   "file_extension": ".py",
   "mimetype": "text/x-python",
   "name": "python",
   "nbconvert_exporter": "python",
   "pygments_lexer": "ipython3",
   "version": "3.6.6"
  }
 },
 "nbformat": 4,
 "nbformat_minor": 2
}
